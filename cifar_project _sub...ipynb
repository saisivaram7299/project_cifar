{
 "cells": [
  {
   "cell_type": "code",
   "execution_count": null,
   "metadata": {},
   "outputs": [],
   "source": [
    "import cifar10\n",
    "import matplotlib.pyplot as plt\n",
    "from sklearn.decomposition import PCA\n",
    "from sklearn.ensemble import RandomForestClassifier\n",
    "from sklearn.naive_bayes import GaussianNB\n",
    "from sklearn.metrics import classification_report,confusion_matrix\n",
    "\n"
   ]
  },
  {
   "cell_type": "code",
   "execution_count": null,
   "metadata": {},
   "outputs": [],
   "source": [
    "cifar10.data_path = \"data/CIFAR-10/\""
   ]
  },
  {
   "cell_type": "code",
   "execution_count": null,
   "metadata": {},
   "outputs": [],
   "source": [
    "cifar10.maybe_download_and_extract() "
   ]
  },
  {
   "cell_type": "code",
   "execution_count": null,
   "metadata": {},
   "outputs": [],
   "source": [
    "class_names = cifar10.load_class_names()\n",
    "class_names"
   ]
  },
  {
   "cell_type": "code",
   "execution_count": null,
   "metadata": {},
   "outputs": [],
   "source": [
    "images_train, cls_train, labels_train = cifar10.load_training_data()\n",
    "images_test, cls_test, labels_test = cifar10.load_test_data()"
   ]
  },
  {
   "cell_type": "code",
   "execution_count": null,
   "metadata": {},
   "outputs": [],
   "source": [
    "fig=plt.figure(figsize=(100,100))\n",
    "for i in range(8):\n",
    "    ax=fig.add_subplot(8,8,i+1,xticks=[],yticks=[])\n",
    "    ax.imshow(images_train[i],cmap=plt.cm.bone)\n",
    "plt.show()\n"
   ]
  },
  {
   "cell_type": "code",
   "execution_count": null,
   "metadata": {},
   "outputs": [],
   "source": [
    "dat_train=images_train.reshape(50000,3072)\n",
    "dat_test=images_test.reshape(10000,3072)"
   ]
  },
  {
   "cell_type": "code",
   "execution_count": null,
   "metadata": {},
   "outputs": [],
   "source": [
    "pca=PCA()\n",
    "pca.fit(dat_train)\n",
    "k=0\n",
    "total=sum(pca.explained_variance_)\n",
    "curr=0\n",
    "while((curr/total)<0.98):\n",
    "    curr+=pca.explained_variance_[k]\n",
    "    k=k+1\n",
    "    \n",
    "k\n"
   ]
  },
  {
   "cell_type": "code",
   "execution_count": null,
   "metadata": {},
   "outputs": [],
   "source": [
    "pca=PCA(n_components=k,whiten=True)\n",
    "trtrain=pca.fit_transform(dat_train)\n",
    "trtest=pca.transform(dat_test)"
   ]
  },
  {
   "cell_type": "code",
   "execution_count": null,
   "metadata": {},
   "outputs": [],
   "source": [
    "tr_app=pca.inverse_transform(trtrain)\n",
    "tr_app=tr_app.reshape(50000,32,32,3)\n",
    "fig=plt.figure(figsize=(100,100))\n",
    "for i in range(8):\n",
    "    ax=fig.add_subplot(8,8,i+1,xticks=[],yticks=[])\n",
    "    ax.imshow(tr_app[i],cmap=plt.cm.bone)\n",
    "plt.show()\n"
   ]
  },
  {
   "cell_type": "code",
   "execution_count": null,
   "metadata": {},
   "outputs": [],
   "source": [
    " clf=RandomForestClassifier(random_state=0)\n",
    "clf.fit(trtrain,cls_train)\n",
    "y=clf.predict(trtest)\n",
    "y\n",
    "print(classification_report(y,cls_test))\n",
    "print(confusion_matrix(y,cls_test))\n"
   ]
  },
  {
   "cell_type": "code",
   "execution_count": null,
   "metadata": {},
   "outputs": [],
   "source": [
    "clf1=GaussianNB()\n",
    "clf1.fit(trtrain,cls_train)\n",
    "y=clf1.predict(trtest)\n",
    "y\n",
    "print(classification_report(y,cls_test))\n",
    "print(confusion_matrix(y,cls_test))\n"
   ]
  },
  {
   "cell_type": "code",
   "execution_count": null,
   "metadata": {
    "scrolled": false
   },
   "outputs": [],
   "source": [
    " clf=RandomForestClassifier(random_state=0)\n",
    "clf.fit(dat_train,cls_train)\n",
    "y=clf.predict(dat_test)\n",
    "y\n",
    "print(classification_report(y,cls_test))\n",
    "print(confusion_matrix(y,cls_test)) \n"
   ]
  },
  {
   "cell_type": "code",
   "execution_count": null,
   "metadata": {},
   "outputs": [],
   "source": [
    "clf1=GaussianNB()\n",
    "clf1.fit(dat_train,cls_train)\n",
    "y=clf1.predict(dat_test)\n",
    "y\n",
    "print(classification_report(y,cls_test))\n",
    "print(confusion_matrix(y,cls_test))\n"
   ]
  },
  {
   "cell_type": "code",
   "execution_count": null,
   "metadata": {},
   "outputs": [],
   "source": [
    "import numpy as np\n",
    "np.savetxt(\"main_out.csv\",cls_test,fmt=\"%0f\",header=\"Y\",comments=\"\")\n",
    "np.savetxt(\"_out.csv\",y,fmt=\"%0f\",header=\"Y\",comments=\"\")"
   ]
  },
  {
   "cell_type": "code",
   "execution_count": null,
   "metadata": {},
   "outputs": [],
   "source": [
    "import pandas as pd\n",
    "yy=pd.read_csv(\"_out.csv\")\n",
    "yy1=pd.read_csv(\"main_out.csv\")\n",
    "yy\n"
   ]
  },
  {
   "cell_type": "code",
   "execution_count": null,
   "metadata": {
    "scrolled": true
   },
   "outputs": [],
   "source": [
    "\n",
    "yy1"
   ]
  },
  {
   "cell_type": "code",
   "execution_count": null,
   "metadata": {},
   "outputs": [],
   "source": [
    "def f(Y):\n",
    "    if Y==0:\n",
    "        return 'airplane'\n",
    "    elif Y==1:\n",
    "        return 'automobile'\n",
    "    elif Y==2:\n",
    "        return  'bird'\n",
    "    elif Y==3:\n",
    "        return  'cat'\n",
    "    elif Y==4:\n",
    "        return 'deer'\n",
    "    elif Y==5:\n",
    "        return 'dog'\n",
    "    elif Y==6:\n",
    "        return 'frog'\n",
    "    elif Y==7:\n",
    "        return 'horse'\n",
    "    elif Y==8:\n",
    "        return 'ship'\n",
    "    else:\n",
    "        return 'truck'\n",
    "\n",
    "\n",
    "yy[\"Y\"]=yy.Y.apply(f) \n",
    "\n",
    "yy\n",
    "    \n",
    "        "
   ]
  },
  {
   "cell_type": "code",
   "execution_count": null,
   "metadata": {},
   "outputs": [],
   "source": [
    "yy1[\"Y\"]=yy1.Y.apply(f) \n",
    "\n",
    "yy1\n",
    "    "
   ]
  },
  {
   "cell_type": "code",
   "execution_count": null,
   "metadata": {},
   "outputs": [],
   "source": [
    "yy.to_csv(\"by_classifiers.csv\",header=False,index=False)\n",
    "yy1.to_csv(\"by_answer.csv\",header=False,index=False)"
   ]
  }
 ],
 "metadata": {
  "kernelspec": {
   "display_name": "Python 3",
   "language": "python",
   "name": "python3"
  },
  "language_info": {
   "codemirror_mode": {
    "name": "ipython",
    "version": 3
   },
   "file_extension": ".py",
   "mimetype": "text/x-python",
   "name": "python",
   "nbconvert_exporter": "python",
   "pygments_lexer": "ipython3",
   "version": "3.6.5"
  }
 },
 "nbformat": 4,
 "nbformat_minor": 2
}
